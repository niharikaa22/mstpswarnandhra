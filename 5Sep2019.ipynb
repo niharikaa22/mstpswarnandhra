{
 "cells": [
  {
   "cell_type": "markdown",
   "metadata": {},
   "source": [
    "#### Working with Files in python"
   ]
  },
  {
   "cell_type": "markdown",
   "metadata": {},
   "source": [
    "#### File\n",
    "    Document to store information or data"
   ]
  },
  {
   "cell_type": "markdown",
   "metadata": {},
   "source": [
    "#### read and write"
   ]
  },
  {
   "cell_type": "markdown",
   "metadata": {},
   "source": [
    "#### 3 steps to work with files in python\n",
    "    1. Open the file\n",
    "    2. do operations what you required\n",
    "    3. close the file"
   ]
  },
  {
   "cell_type": "markdown",
   "metadata": {},
   "source": [
    "#### reading the file"
   ]
  },
  {
   "cell_type": "code",
   "execution_count": 3,
   "metadata": {},
   "outputs": [
    {
     "name": "stdout",
     "output_type": "stream",
     "text": [
      "Line 1\n",
      "Line 2\n",
      "Line 3\n",
      "Line 4\n"
     ]
    }
   ],
   "source": [
    "fh = open('book.txt','r')\n",
    "\n",
    "data = fh.read()\n",
    "print(data)\n",
    "\n",
    "fh.close()"
   ]
  },
  {
   "cell_type": "markdown",
   "metadata": {},
   "source": [
    "#### write into file"
   ]
  },
  {
   "cell_type": "code",
   "execution_count": 5,
   "metadata": {},
   "outputs": [],
   "source": [
    "fh = open('notes.txt','w')\n",
    "\n",
    "fh.write('who are you')\n",
    "\n",
    "fh.close()"
   ]
  },
  {
   "cell_type": "markdown",
   "metadata": {},
   "source": [
    "#### write the content from book.txt to notes.txt"
   ]
  },
  {
   "cell_type": "code",
   "execution_count": 6,
   "metadata": {},
   "outputs": [],
   "source": [
    "fh_i = open('book.txt','r')\n",
    "fh_o = open('notes.txt','w')\n",
    "\n",
    "data = fh_i.read()\n",
    "fh_o.write(data)\n",
    "\n",
    "fh_i.close()\n",
    "fh_o.close()"
   ]
  },
  {
   "cell_type": "markdown",
   "metadata": {},
   "source": [
    "#### append mode"
   ]
  },
  {
   "cell_type": "code",
   "execution_count": 7,
   "metadata": {},
   "outputs": [],
   "source": [
    "fh = open('notes.txt','a')\n",
    "\n",
    "fh.write('new Line')\n",
    "\n",
    "fh.close()"
   ]
  },
  {
   "cell_type": "code",
   "execution_count": 8,
   "metadata": {},
   "outputs": [
    {
     "name": "stdout",
     "output_type": "stream",
     "text": [
      "Line 1\n",
      "\n",
      "Line 2\n",
      "\n",
      "Line 3\n",
      "\n",
      "Line 4\n"
     ]
    }
   ],
   "source": [
    "fh = open('book.txt','r')\n",
    "\n",
    "for Line in fh:\n",
    "    print(Line)\n",
    "\n",
    "fh.close()"
   ]
  },
  {
   "cell_type": "markdown",
   "metadata": {},
   "source": [
    "1. find number of lines in 'book.txt' file\n",
    "2. print 3rd line in the file\n",
    "3. print last character in the 3rd line\n",
    "4. create function to return the data in given Line number\n",
    "5. create function to find the number of characters in file\n",
    "6. create function to count the occurance of the given character\n",
    "7. create function to find the sum of digits in file\n",
    "8. create function to replace  all given old word with new word in file\n",
    "9. find number of words in file\n",
    "10. create function to remove the given line number in file\n",
    "11. create function to remove the given word in file"
   ]
  },
  {
   "cell_type": "code",
   "execution_count": null,
   "metadata": {},
   "outputs": [],
   "source": []
  },
  {
   "cell_type": "code",
   "execution_count": 4,
   "metadata": {},
   "outputs": [],
   "source": [
    "# 8. replace old word with new word in file\n",
    "def replaceWord(fileName,oldWord,newWord):\n",
    "    fh = open(fileName,'r')\n",
    "    data = fh.read()\n",
    "    data = data.replace(oldWord,newWord)\n",
    "    fh.close()\n",
    "    fh = open(fileName,'w')\n",
    "    fh.write(data)\n",
    "    fh.close()"
   ]
  },
  {
   "cell_type": "code",
   "execution_count": 3,
   "metadata": {},
   "outputs": [],
   "source": [
    "replaceWord('book.txt','Line','row')"
   ]
  },
  {
   "cell_type": "code",
   "execution_count": 5,
   "metadata": {},
   "outputs": [],
   "source": [
    "replaceWord('book.txt','row','')"
   ]
  },
  {
   "cell_type": "code",
   "execution_count": null,
   "metadata": {},
   "outputs": [],
   "source": []
  },
  {
   "cell_type": "markdown",
   "metadata": {},
   "source": [
    "### update mode"
   ]
  },
  {
   "cell_type": "code",
   "execution_count": 6,
   "metadata": {},
   "outputs": [],
   "source": [
    "fh = open('book.txt','r+')\n",
    "fh.write('sai')\n",
    "\n",
    "fh.close()"
   ]
  },
  {
   "cell_type": "code",
   "execution_count": null,
   "metadata": {},
   "outputs": [],
   "source": []
  },
  {
   "cell_type": "code",
   "execution_count": 11,
   "metadata": {},
   "outputs": [
    {
     "name": "stdout",
     "output_type": "stream",
     "text": [
      "16\n",
      "5\n",
      "aju\n",
      "lakshmi\n"
     ]
    }
   ],
   "source": [
    "fh = open('book.txt','r')\n",
    "data = fh.read()\n",
    "print(fh.tell())\n",
    "fh.seek(5)\n",
    "print(fh.tell())\n",
    "data = fh.read()\n",
    "print(data)\n",
    "fh.close()"
   ]
  },
  {
   "cell_type": "code",
   "execution_count": null,
   "metadata": {},
   "outputs": [],
   "source": []
  },
  {
   "cell_type": "code",
   "execution_count": 12,
   "metadata": {},
   "outputs": [
    {
     "name": "stdout",
     "output_type": "stream",
     "text": [
      "\n"
     ]
    }
   ],
   "source": [
    "fh = open('book.txt','w+')\n",
    "\n",
    "print(fh.read())\n",
    "\n",
    "fh.close()"
   ]
  },
  {
   "cell_type": "code",
   "execution_count": 17,
   "metadata": {},
   "outputs": [
    {
     "name": "stdout",
     "output_type": "stream",
     "text": [
      "['Line 2\\n', 'Line 3\\n', 'Line 4']\n"
     ]
    }
   ],
   "source": [
    "fh = open('book.txt','r')\n",
    "data = fh.readline()\n",
    "data = fh.readlines()\n",
    "print(data)\n",
    "fh.close()"
   ]
  },
  {
   "cell_type": "code",
   "execution_count": null,
   "metadata": {},
   "outputs": [],
   "source": []
  },
  {
   "cell_type": "code",
   "execution_count": 15,
   "metadata": {},
   "outputs": [],
   "source": [
    "fh_i = open('book.txt','r')\n",
    "fh_o = open('report.txt','w')\n",
    "count = 0\n",
    "for Line in fh_i:\n",
    "    count += 1\n",
    "    if count==1:\n",
    "        fh_o.write(Line.strip()+'\\ttotal\\n')\n",
    "    else:\n",
    "        marks_list = Line.strip().split()[2:]\n",
    "        newMarks = []\n",
    "        for each in marks_list:\n",
    "            newMarks.append(int(each))\n",
    "        total_marks = sum(newMarks)\n",
    "        fh_o.write(Line.strip()+'\\t'+str(total_marks)+'\\n')\n",
    "fh_i.close()\n",
    "fh_o.close()"
   ]
  },
  {
   "cell_type": "code",
   "execution_count": null,
   "metadata": {},
   "outputs": [],
   "source": []
  },
  {
   "cell_type": "code",
   "execution_count": null,
   "metadata": {},
   "outputs": [],
   "source": []
  },
  {
   "cell_type": "code",
   "execution_count": null,
   "metadata": {},
   "outputs": [],
   "source": []
  },
  {
   "cell_type": "code",
   "execution_count": null,
   "metadata": {},
   "outputs": [],
   "source": []
  },
  {
   "cell_type": "code",
   "execution_count": 22,
   "metadata": {},
   "outputs": [],
   "source": [
    "fh_i = open('book.txt','r')\n",
    "fh_o = open('report.txt','w')\n",
    "count = 0\n",
    "rows = []\n",
    "for Line in fh_i:\n",
    "    count += 1\n",
    "    if count==1:\n",
    "        fh_o.write(Line.strip()+'\\ttotal\\n')\n",
    "    else:\n",
    "        marks_list = Line.strip().split()[2:]\n",
    "        newMarks = []\n",
    "        for each in marks_list:\n",
    "            newMarks.append(int(each))\n",
    "        total_marks = sum(newMarks)\n",
    "        row = Line.strip()+'\\t'+str(total_marks)+'\\n' #modified\n",
    "        rows.append([total_marks,row]) # modifies\n",
    "rows.sort(reverse=True) #modified\n",
    "for row in rows:\n",
    "    fh_o.write(row[1])\n",
    "    \n",
    "fh_i.close()\n",
    "fh_o.close()"
   ]
  },
  {
   "cell_type": "code",
   "execution_count": null,
   "metadata": {},
   "outputs": [],
   "source": []
  },
  {
   "cell_type": "code",
   "execution_count": null,
   "metadata": {},
   "outputs": [],
   "source": []
  },
  {
   "cell_type": "code",
   "execution_count": null,
   "metadata": {},
   "outputs": [],
   "source": []
  },
  {
   "cell_type": "code",
   "execution_count": null,
   "metadata": {},
   "outputs": [],
   "source": []
  },
  {
   "cell_type": "code",
   "execution_count": null,
   "metadata": {},
   "outputs": [],
   "source": []
  },
  {
   "cell_type": "code",
   "execution_count": null,
   "metadata": {},
   "outputs": [],
   "source": []
  },
  {
   "cell_type": "code",
   "execution_count": null,
   "metadata": {},
   "outputs": [],
   "source": []
  },
  {
   "cell_type": "code",
   "execution_count": null,
   "metadata": {},
   "outputs": [],
   "source": []
  },
  {
   "cell_type": "code",
   "execution_count": 16,
   "metadata": {},
   "outputs": [
    {
     "data": {
      "text/plain": [
       "[[110, 'SWRN3      ramu     60      50\\t110'],\n",
       " [150, 'SWRN1      sai      80      70\\t150'],\n",
       " [180, 'SWRN4      lakshmi  90      90\\t180']]"
      ]
     },
     "execution_count": 16,
     "metadata": {},
     "output_type": "execute_result"
    }
   ],
   "source": [
    "rows = [\n",
    "    [150,\"SWRN1      sai      80      70\t150\"],\n",
    "    [110,\"SWRN3      ramu     60      50\t110\"],\n",
    "    [180,\"SWRN4      lakshmi  90      90\t180\"]\n",
    "       ]\n",
    "rows.sort()\n",
    "rows"
   ]
  },
  {
   "cell_type": "code",
   "execution_count": null,
   "metadata": {},
   "outputs": [],
   "source": []
  }
 ],
 "metadata": {
  "kernelspec": {
   "display_name": "Python 3",
   "language": "python",
   "name": "python3"
  },
  "language_info": {
   "codemirror_mode": {
    "name": "ipython",
    "version": 3
   },
   "file_extension": ".py",
   "mimetype": "text/x-python",
   "name": "python",
   "nbconvert_exporter": "python",
   "pygments_lexer": "ipython3",
   "version": "3.7.3"
  }
 },
 "nbformat": 4,
 "nbformat_minor": 2
}
